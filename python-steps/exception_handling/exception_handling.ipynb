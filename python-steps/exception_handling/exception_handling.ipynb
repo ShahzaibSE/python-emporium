{
 "cells": [
  {
   "cell_type": "code",
   "execution_count": 1,
   "metadata": {},
   "outputs": [
    {
     "name": "stdout",
     "output_type": "stream",
     "text": [
      "list_b: [1, 2, 3, 4]\n"
     ]
    }
   ],
   "source": [
    "list_a: list[int] = [1, 2, 3] # 4\n",
    "list_b = list_a\n",
    "list_a.append(4)\n",
    "print(\"list_b:\", list_b) # Output: list_b: [1, 2, 3, 4]"
   ]
  },
  {
   "cell_type": "markdown",
   "metadata": {},
   "source": [
    "https://www.linkedin.com/pulse/understanding-pass-by-value-vs-pass-by-reference-elhousieny-phd%E1%B4%AC%E1%B4%AE%E1%B4%B0/"
   ]
  },
  {
   "cell_type": "code",
   "execution_count": 2,
   "metadata": {},
   "outputs": [
    {
     "name": "stdout",
     "output_type": "stream",
     "text": [
      "num_b: 5\n"
     ]
    }
   ],
   "source": [
    "num_a:int = 5\n",
    "num_b = num_a\n",
    "num_a += 1\n",
    "print(\"num_b:\", num_b) # Output: num_b: 5"
   ]
  },
  {
   "cell_type": "markdown",
   "metadata": {},
   "source": [
    "## Addressing Changes without Function Calls"
   ]
  },
  {
   "cell_type": "code",
   "execution_count": 3,
   "metadata": {},
   "outputs": [
    {
     "name": "stdout",
     "output_type": "stream",
     "text": [
      "Before modification: 10 4335347192\n",
      "After modification: 11 4335347224\n"
     ]
    }
   ],
   "source": [
    "x = 10\n",
    "print(\"Before modification:\", x, id(x))\n",
    "x += 1\n",
    "print(\"After modification:\", x, id(x))"
   ]
  },
  {
   "cell_type": "code",
   "execution_count": 4,
   "metadata": {},
   "outputs": [
    {
     "name": "stdout",
     "output_type": "stream",
     "text": [
      "First Assignment of variable a value is 4335347032\n",
      "\tValue of start of function 5 address 4335347032\n",
      "\tnum1 value end of function 6 address 4335347064\n",
      "\tEnd of program\n",
      "End of program variable value is 5 address of a 4335347032\n"
     ]
    }
   ],
   "source": [
    "a : int = 5\n",
    "\n",
    "print(f\"First Assignment of variable a value is {id(a)}\")\n",
    "\n",
    "def abc(num1:int)->None:\n",
    "    print(f\"\\tValue of start of function {num1} address {id(num1)}\")\n",
    "    num1 = 6# copy now it will change update object\n",
    "\n",
    "    print(f\"\\tnum1 value end of function {num1} address {id(num1)}\") # change here\n",
    "    print(\"\\tEnd of program\")\n",
    "\n",
    "abc(a) # pass by value imutable\n",
    "\n",
    "print(f\"End of program variable value is {a} address of a {id(a)}\")"
   ]
  },
  {
   "cell_type": "code",
   "execution_count": 5,
   "metadata": {},
   "outputs": [
    {
     "name": "stdout",
     "output_type": "stream",
     "text": [
      "X value is 7 and X address 4335347096\n",
      "X value is 7 and X address 4335347096\n",
      "X value is 200 and X address 4335353272\n"
     ]
    }
   ],
   "source": [
    "x : int = 7\n",
    "\n",
    "b = x \n",
    "\n",
    "print(f\"X value is {x} and X address {id(x)}\")\n",
    "print(f\"X value is {b} and X address {id(b)}\")\n",
    "\n",
    "b = 200 # update then it will change address\n",
    "\n",
    "print(f\"X value is {b} and X address {id(b)}\")"
   ]
  },
  {
   "cell_type": "code",
   "execution_count": 8,
   "metadata": {},
   "outputs": [
    {
     "name": "stdout",
     "output_type": "stream",
     "text": [
      "Same memory address\n",
      "X value is 7 and X address 4335347096\n",
      "X value is 7 and X address 4335347096\n",
      "X value is 200 and X address 4335353272\n"
     ]
    }
   ],
   "source": [
    "x : int = 7\n",
    "\n",
    "b: int = 7\n",
    "\n",
    "if(id(x) == id(b)):\n",
    "    print(\"Same memory address\")\n",
    "\n",
    "print(f\"X value is {x} and X address {id(x)}\")\n",
    "print(f\"X value is {b} and X address {id(b)}\")\n",
    "\n",
    "b = 200 # update then it will change address\n",
    "\n",
    "print(f\"X value is {b} and X address {id(b)}\")"
   ]
  },
  {
   "cell_type": "code",
   "execution_count": 16,
   "metadata": {},
   "outputs": [
    {
     "data": {
      "text/plain": [
       "'Number is even'"
      ]
     },
     "metadata": {},
     "output_type": "display_data"
    }
   ],
   "source": [
    "from nptyping import Bool\n",
    "# Ternary Operator\n",
    "\n",
    "num: int = 6\n",
    "num_checker: Bool = True if num % 2 == 0 else False\n",
    "#\n",
    "if(num_checker):\n",
    "    display(\"Number is even\")\n",
    "else:\n",
    "    display(\"Number is odd\")"
   ]
  },
  {
   "cell_type": "code",
   "execution_count": 17,
   "metadata": {},
   "outputs": [
    {
     "name": "stdout",
     "output_type": "stream",
     "text": [
      "X value is 7 and X address 4335347096\n",
      "X value is 7 and X address 4335347096\n",
      "X value is 200 and X address 4335353272\n"
     ]
    }
   ],
   "source": [
    "x : int = 7\n",
    "\n",
    "b : int = int(7)# changes then it will create new object\n",
    "\n",
    "print(f\"X value is {x} and X address {id(x)}\")\n",
    "print(f\"X value is {b} and X address {id(b)}\")\n",
    "\n",
    "b = 200 # update then it will change address\n",
    "\n",
    "print(f\"X value is {b} and X address {id(b)}\")"
   ]
  },
  {
   "cell_type": "code",
   "execution_count": 18,
   "metadata": {},
   "outputs": [
    {
     "name": "stdout",
     "output_type": "stream",
     "text": [
      "4584159936\n",
      "\tValue of start of function [1, 2, 3, 4] address 4584159936\n",
      "num1 value is [1, 2, 3, 4, 200] address 4584159936\n",
      "[1, 2, 3, 4, 200]\n"
     ]
    }
   ],
   "source": [
    "a : list[int] = [1,2,3,4]\n",
    "\n",
    "print(id(a))\n",
    "\n",
    "def abc(num1:list[int])->None:\n",
    "    print(f\"\\tValue of start of function {num1} address {id(num1)}\")\n",
    "    num1.append(200)# added on element\n",
    "    print(f\"num1 value is {num1} address {id(num1)}\")\n",
    "\n",
    "abc(a)# pass by refference (mutable data type)\n",
    "\n",
    "print(a)"
   ]
  },
  {
   "cell_type": "code",
   "execution_count": 19,
   "metadata": {},
   "outputs": [
    {
     "name": "stdout",
     "output_type": "stream",
     "text": [
      "num1 value is [7, 200]\n",
      "[1, 2, 3, 4]\n"
     ]
    }
   ],
   "source": [
    "a : list[int] = [1,2,3,4]\n",
    "\n",
    "def abc(num1:list[int])->None:\n",
    "    num1:list[int] = [7] # reassign list variable -> create new object\n",
    "    num1.append(200)# added on element\n",
    "    print(f\"num1 value is {num1}\")\n",
    "\n",
    "abc(a)# pass by refference (mutable data type)\n",
    "\n",
    "print(a)"
   ]
  },
  {
   "cell_type": "code",
   "execution_count": 20,
   "metadata": {},
   "outputs": [
    {
     "name": "stdout",
     "output_type": "stream",
     "text": [
      "num1 value is [1, 2, 3, 4, 200]\n",
      "[1, 2, 3, 4]\n"
     ]
    }
   ],
   "source": [
    "a : list[int] = [1,2,3,4]\n",
    "\n",
    "def abc(num1:list[int])->None:\n",
    "    num1:list[int] = [1,2,3,4] # reassign list variable -> create new object\n",
    "    num1.append(200)# added on element\n",
    "    print(f\"num1 value is {num1}\")\n",
    "\n",
    "abc(a)# pass by refference (mutable data type)\n",
    "\n",
    "print(a)"
   ]
  },
  {
   "cell_type": "code",
   "execution_count": 21,
   "metadata": {},
   "outputs": [
    {
     "name": "stdout",
     "output_type": "stream",
     "text": [
      "4585299456\n",
      "4585565824\n"
     ]
    }
   ],
   "source": [
    "a : list[int] = [1,2,3,4] # mutable\n",
    "b : list[int] = [1,2,3,4] # mutable\n",
    "\n",
    "print(id(a))\n",
    "print(id(b))"
   ]
  },
  {
   "cell_type": "markdown",
   "metadata": {},
   "source": [
    "## Run Time Error"
   ]
  },
  {
   "cell_type": "code",
   "execution_count": 22,
   "metadata": {},
   "outputs": [
    {
     "name": "stdout",
     "output_type": "stream",
     "text": [
      "4.0\n"
     ]
    }
   ],
   "source": [
    "a : int = int(input(\"Enter number1:\\t\"))\n",
    "b : int = int(input(\"Enter number2:\\t\"))\n",
    "\n",
    "print(a / b)"
   ]
  },
  {
   "cell_type": "code",
   "execution_count": 24,
   "metadata": {},
   "outputs": [
    {
     "ename": "ZeroDivisionError",
     "evalue": "division by zero",
     "output_type": "error",
     "traceback": [
      "\u001b[0;31m---------------------------------------------------------------------------\u001b[0m",
      "\u001b[0;31mZeroDivisionError\u001b[0m                         Traceback (most recent call last)",
      "\u001b[1;32m/Users/shahzaibnoor/Documents/Projects/python-emporium/python-steps/exception_handling/exception_handling.ipynb Cell 17\u001b[0m line \u001b[0;36m4\n\u001b[1;32m      <a href='vscode-notebook-cell:/Users/shahzaibnoor/Documents/Projects/python-emporium/python-steps/exception_handling/exception_handling.ipynb#X23sZmlsZQ%3D%3D?line=0'>1</a>\u001b[0m a : \u001b[39mint\u001b[39m \u001b[39m=\u001b[39m \u001b[39mint\u001b[39m(\u001b[39minput\u001b[39m(\u001b[39m\"\u001b[39m\u001b[39mEnter number1:\u001b[39m\u001b[39m\\t\u001b[39;00m\u001b[39m\"\u001b[39m))\n\u001b[1;32m      <a href='vscode-notebook-cell:/Users/shahzaibnoor/Documents/Projects/python-emporium/python-steps/exception_handling/exception_handling.ipynb#X23sZmlsZQ%3D%3D?line=1'>2</a>\u001b[0m b : \u001b[39mint\u001b[39m \u001b[39m=\u001b[39m \u001b[39mint\u001b[39m(\u001b[39minput\u001b[39m(\u001b[39m\"\u001b[39m\u001b[39mEnter number2:\u001b[39m\u001b[39m\\t\u001b[39;00m\u001b[39m\"\u001b[39m))\n\u001b[0;32m----> <a href='vscode-notebook-cell:/Users/shahzaibnoor/Documents/Projects/python-emporium/python-steps/exception_handling/exception_handling.ipynb#X23sZmlsZQ%3D%3D?line=3'>4</a>\u001b[0m \u001b[39mprint\u001b[39m(a \u001b[39m/\u001b[39m b)\n",
      "\u001b[0;31mZeroDivisionError\u001b[0m: division by zero"
     ]
    }
   ],
   "source": [
    "a : int = int(input(\"Enter number1:\\t\"))\n",
    "b : int = int(input(\"Enter number2:\\t\"))\n",
    "\n",
    "print(a / b)"
   ]
  },
  {
   "cell_type": "code",
   "execution_count": 25,
   "metadata": {},
   "outputs": [
    {
     "name": "stdout",
     "output_type": "stream",
     "text": [
      "Sir Inam\n"
     ]
    }
   ],
   "source": [
    "names:list[str] = ['Sir Zia',\"Sir Inam\",\"Muhammad Qasim\"]\n",
    "\n",
    "indx : int = int(input(\"Enter index number:\\t\"))\n",
    "print(names[indx])"
   ]
  },
  {
   "cell_type": "code",
   "execution_count": 26,
   "metadata": {},
   "outputs": [
    {
     "ename": "IndexError",
     "evalue": "list index out of range",
     "output_type": "error",
     "traceback": [
      "\u001b[0;31m---------------------------------------------------------------------------\u001b[0m",
      "\u001b[0;31mIndexError\u001b[0m                                Traceback (most recent call last)",
      "\u001b[1;32m/Users/shahzaibnoor/Documents/Projects/python-emporium/python-steps/exception_handling/exception_handling.ipynb Cell 19\u001b[0m line \u001b[0;36m4\n\u001b[1;32m      <a href='vscode-notebook-cell:/Users/shahzaibnoor/Documents/Projects/python-emporium/python-steps/exception_handling/exception_handling.ipynb#X25sZmlsZQ%3D%3D?line=0'>1</a>\u001b[0m names:\u001b[39mlist\u001b[39m[\u001b[39mstr\u001b[39m] \u001b[39m=\u001b[39m [\u001b[39m'\u001b[39m\u001b[39mSir Zia\u001b[39m\u001b[39m'\u001b[39m,\u001b[39m\"\u001b[39m\u001b[39mSir Inam\u001b[39m\u001b[39m\"\u001b[39m,\u001b[39m\"\u001b[39m\u001b[39mMuhammad Qasim\u001b[39m\u001b[39m\"\u001b[39m]\n\u001b[1;32m      <a href='vscode-notebook-cell:/Users/shahzaibnoor/Documents/Projects/python-emporium/python-steps/exception_handling/exception_handling.ipynb#X25sZmlsZQ%3D%3D?line=2'>3</a>\u001b[0m indx : \u001b[39mint\u001b[39m \u001b[39m=\u001b[39m \u001b[39mint\u001b[39m(\u001b[39minput\u001b[39m(\u001b[39m\"\u001b[39m\u001b[39mEnter index number:\u001b[39m\u001b[39m\\t\u001b[39;00m\u001b[39m\"\u001b[39m))\n\u001b[0;32m----> <a href='vscode-notebook-cell:/Users/shahzaibnoor/Documents/Projects/python-emporium/python-steps/exception_handling/exception_handling.ipynb#X25sZmlsZQ%3D%3D?line=3'>4</a>\u001b[0m \u001b[39mprint\u001b[39m(names[indx])\n",
      "\u001b[0;31mIndexError\u001b[0m: list index out of range"
     ]
    }
   ],
   "source": [
    "names:list[str] = ['Sir Zia',\"Sir Inam\",\"Muhammad Qasim\"]\n",
    "\n",
    "indx : int = int(input(\"Enter index number:\\t\"))\n",
    "print(names[indx])"
   ]
  },
  {
   "cell_type": "code",
   "execution_count": 27,
   "metadata": {},
   "outputs": [
    {
     "ename": "TypeError",
     "evalue": "'tuple' object does not support item assignment",
     "output_type": "error",
     "traceback": [
      "\u001b[0;31m---------------------------------------------------------------------------\u001b[0m",
      "\u001b[0;31mTypeError\u001b[0m                                 Traceback (most recent call last)",
      "\u001b[1;32m/Users/shahzaibnoor/Documents/Projects/python-emporium/python-steps/exception_handling/exception_handling.ipynb Cell 20\u001b[0m line \u001b[0;36m2\n\u001b[1;32m      <a href='vscode-notebook-cell:/Users/shahzaibnoor/Documents/Projects/python-emporium/python-steps/exception_handling/exception_handling.ipynb#X26sZmlsZQ%3D%3D?line=0'>1</a>\u001b[0m data : \u001b[39mtuple\u001b[39m[\u001b[39mint\u001b[39m,\u001b[39mint\u001b[39m,\u001b[39mint\u001b[39m] \u001b[39m=\u001b[39m (\u001b[39m1\u001b[39m,\u001b[39m2\u001b[39m,\u001b[39m3\u001b[39m)\n\u001b[0;32m----> <a href='vscode-notebook-cell:/Users/shahzaibnoor/Documents/Projects/python-emporium/python-steps/exception_handling/exception_handling.ipynb#X26sZmlsZQ%3D%3D?line=1'>2</a>\u001b[0m data[\u001b[39m0\u001b[39m] \u001b[39m=\u001b[39m \u001b[39m2000\u001b[39m\n",
      "\u001b[0;31mTypeError\u001b[0m: 'tuple' object does not support item assignment"
     ]
    }
   ],
   "source": [
    "data : tuple[int,int,int] = (1,2,3)\n",
    "data[0] = 2000"
   ]
  },
  {
   "cell_type": "code",
   "execution_count": 28,
   "metadata": {},
   "outputs": [
    {
     "ename": "TypeError",
     "evalue": "can only concatenate str (not \"int\") to str",
     "output_type": "error",
     "traceback": [
      "\u001b[0;31m---------------------------------------------------------------------------\u001b[0m",
      "\u001b[0;31mTypeError\u001b[0m                                 Traceback (most recent call last)",
      "\u001b[1;32m/Users/shahzaibnoor/Documents/Projects/python-emporium/python-steps/exception_handling/exception_handling.ipynb Cell 21\u001b[0m line \u001b[0;36m1\n\u001b[0;32m----> <a href='vscode-notebook-cell:/Users/shahzaibnoor/Documents/Projects/python-emporium/python-steps/exception_handling/exception_handling.ipynb#X30sZmlsZQ%3D%3D?line=0'>1</a>\u001b[0m \u001b[39m\"\u001b[39m\u001b[39m2\u001b[39m\u001b[39m\"\u001b[39m \u001b[39m+\u001b[39m \u001b[39m2\u001b[39m\n",
      "\u001b[0;31mTypeError\u001b[0m: can only concatenate str (not \"int\") to str"
     ]
    }
   ],
   "source": [
    "\"2\" + 2"
   ]
  },
  {
   "cell_type": "code",
   "execution_count": 29,
   "metadata": {},
   "outputs": [
    {
     "ename": "KeyError",
     "evalue": "'father name'",
     "output_type": "error",
     "traceback": [
      "\u001b[0;31m---------------------------------------------------------------------------\u001b[0m",
      "\u001b[0;31mKeyError\u001b[0m                                  Traceback (most recent call last)",
      "\u001b[1;32m/Users/shahzaibnoor/Documents/Projects/python-emporium/python-steps/exception_handling/exception_handling.ipynb Cell 22\u001b[0m line \u001b[0;36m6\n\u001b[1;32m      <a href='vscode-notebook-cell:/Users/shahzaibnoor/Documents/Projects/python-emporium/python-steps/exception_handling/exception_handling.ipynb#X31sZmlsZQ%3D%3D?line=0'>1</a>\u001b[0m data : \u001b[39mdict\u001b[39m[\u001b[39mstr\u001b[39m,\u001b[39mstr\u001b[39m] \u001b[39m=\u001b[39m {\n\u001b[1;32m      <a href='vscode-notebook-cell:/Users/shahzaibnoor/Documents/Projects/python-emporium/python-steps/exception_handling/exception_handling.ipynb#X31sZmlsZQ%3D%3D?line=1'>2</a>\u001b[0m     \u001b[39m\"\u001b[39m\u001b[39mname\u001b[39m\u001b[39m\"\u001b[39m:\u001b[39m\"\u001b[39m\u001b[39mMuhammad Qasim\u001b[39m\u001b[39m\"\u001b[39m,\n\u001b[1;32m      <a href='vscode-notebook-cell:/Users/shahzaibnoor/Documents/Projects/python-emporium/python-steps/exception_handling/exception_handling.ipynb#X31sZmlsZQ%3D%3D?line=2'>3</a>\u001b[0m     \u001b[39m\"\u001b[39m\u001b[39meducation\u001b[39m\u001b[39m\"\u001b[39m: \u001b[39m\"\u001b[39m\u001b[39mMSDS\u001b[39m\u001b[39m\"\u001b[39m\n\u001b[1;32m      <a href='vscode-notebook-cell:/Users/shahzaibnoor/Documents/Projects/python-emporium/python-steps/exception_handling/exception_handling.ipynb#X31sZmlsZQ%3D%3D?line=3'>4</a>\u001b[0m }\n\u001b[0;32m----> <a href='vscode-notebook-cell:/Users/shahzaibnoor/Documents/Projects/python-emporium/python-steps/exception_handling/exception_handling.ipynb#X31sZmlsZQ%3D%3D?line=5'>6</a>\u001b[0m data[\u001b[39m'\u001b[39m\u001b[39mfather name\u001b[39m\u001b[39m'\u001b[39m]\n",
      "\u001b[0;31mKeyError\u001b[0m: 'father name'"
     ]
    }
   ],
   "source": [
    "data : dict[str,str] = {\n",
    "    \"name\":\"Muhammad Qasim\",\n",
    "    \"education\": \"MSDS\"\n",
    "}\n",
    "\n",
    "data['father name']"
   ]
  },
  {
   "cell_type": "code",
   "execution_count": 30,
   "metadata": {},
   "outputs": [
    {
     "ename": "FileNotFoundError",
     "evalue": "[Errno 2] No such file or directory: 'abc.txt'",
     "output_type": "error",
     "traceback": [
      "\u001b[0;31m---------------------------------------------------------------------------\u001b[0m",
      "\u001b[0;31mFileNotFoundError\u001b[0m                         Traceback (most recent call last)",
      "\u001b[1;32m/Users/shahzaibnoor/Documents/Projects/python-emporium/python-steps/exception_handling/exception_handling.ipynb Cell 23\u001b[0m line \u001b[0;36m1\n\u001b[0;32m----> <a href='vscode-notebook-cell:/Users/shahzaibnoor/Documents/Projects/python-emporium/python-steps/exception_handling/exception_handling.ipynb#X32sZmlsZQ%3D%3D?line=0'>1</a>\u001b[0m \u001b[39mopen\u001b[39m(\u001b[39m\"\u001b[39m\u001b[39mabc.txt\u001b[39m\u001b[39m\"\u001b[39m)\n",
      "File \u001b[0;32m~/anaconda3/lib/python3.11/site-packages/IPython/core/interactiveshell.py:286\u001b[0m, in \u001b[0;36m_modified_open\u001b[0;34m(file, *args, **kwargs)\u001b[0m\n\u001b[1;32m    279\u001b[0m \u001b[39mif\u001b[39;00m file \u001b[39min\u001b[39;00m {\u001b[39m0\u001b[39m, \u001b[39m1\u001b[39m, \u001b[39m2\u001b[39m}:\n\u001b[1;32m    280\u001b[0m     \u001b[39mraise\u001b[39;00m \u001b[39mValueError\u001b[39;00m(\n\u001b[1;32m    281\u001b[0m         \u001b[39mf\u001b[39m\u001b[39m\"\u001b[39m\u001b[39mIPython won\u001b[39m\u001b[39m'\u001b[39m\u001b[39mt let you open fd=\u001b[39m\u001b[39m{\u001b[39;00mfile\u001b[39m}\u001b[39;00m\u001b[39m by default \u001b[39m\u001b[39m\"\u001b[39m\n\u001b[1;32m    282\u001b[0m         \u001b[39m\"\u001b[39m\u001b[39mas it is likely to crash IPython. If you know what you are doing, \u001b[39m\u001b[39m\"\u001b[39m\n\u001b[1;32m    283\u001b[0m         \u001b[39m\"\u001b[39m\u001b[39myou can use builtins\u001b[39m\u001b[39m'\u001b[39m\u001b[39m open.\u001b[39m\u001b[39m\"\u001b[39m\n\u001b[1;32m    284\u001b[0m     )\n\u001b[0;32m--> 286\u001b[0m \u001b[39mreturn\u001b[39;00m io_open(file, \u001b[39m*\u001b[39margs, \u001b[39m*\u001b[39m\u001b[39m*\u001b[39mkwargs)\n",
      "\u001b[0;31mFileNotFoundError\u001b[0m: [Errno 2] No such file or directory: 'abc.txt'"
     ]
    }
   ],
   "source": [
    "open(\"abc.txt\")"
   ]
  },
  {
   "cell_type": "markdown",
   "metadata": {},
   "source": [
    "## Handling Run Time Errors\n",
    "\n",
    "    try:\n",
    "        logic\n",
    "    except (Error_class1, Error_class2):\n",
    "        if error accured then run this block\n",
    "    else:\n",
    "        if error not accured\n",
    "    finally:\n",
    "        always run\n"
   ]
  },
  {
   "cell_type": "code",
   "execution_count": 31,
   "metadata": {},
   "outputs": [
    {
     "name": "stdout",
     "output_type": "stream",
     "text": [
      "logic1\n",
      "logic2\n",
      "Zerro Division Error!\n",
      "logic4\n",
      "logic5\n"
     ]
    }
   ],
   "source": [
    "print(\"logic1\")\n",
    "print(\"logic2\")\n",
    "try:\n",
    "    print(5/0)# Error\n",
    "except ZeroDivisionError:\n",
    "    print(\"Zerro Division Error!\")\n",
    "print(\"logic4\")\n",
    "print(\"logic5\")"
   ]
  },
  {
   "cell_type": "code",
   "execution_count": 32,
   "metadata": {},
   "outputs": [
    {
     "name": "stdout",
     "output_type": "stream",
     "text": [
      "logic1\n",
      "logic2\n",
      "logic4\n",
      "logic5\n"
     ]
    }
   ],
   "source": [
    "print(\"logic1\")\n",
    "print(\"logic2\")\n",
    "try:\n",
    "    print(5/0)# Error\n",
    "except ZeroDivisionError:\n",
    "    pass\n",
    "print(\"logic4\")\n",
    "print(\"logic5\")"
   ]
  },
  {
   "cell_type": "code",
   "execution_count": 33,
   "metadata": {},
   "outputs": [
    {
     "ename": "IndexError",
     "evalue": "list index out of range",
     "output_type": "error",
     "traceback": [
      "\u001b[0;31m---------------------------------------------------------------------------\u001b[0m",
      "\u001b[0;31mIndexError\u001b[0m                                Traceback (most recent call last)",
      "\u001b[1;32m/Users/shahzaibnoor/Documents/Projects/python-emporium/python-steps/exception_handling/exception_handling.ipynb Cell 27\u001b[0m line \u001b[0;36m2\n\u001b[1;32m      <a href='vscode-notebook-cell:/Users/shahzaibnoor/Documents/Projects/python-emporium/python-steps/exception_handling/exception_handling.ipynb#X36sZmlsZQ%3D%3D?line=0'>1</a>\u001b[0m l1 : \u001b[39mlist\u001b[39m[\u001b[39mint\u001b[39m] \u001b[39m=\u001b[39m [\u001b[39m1\u001b[39m,\u001b[39m2\u001b[39m,\u001b[39m3\u001b[39m]\n\u001b[0;32m----> <a href='vscode-notebook-cell:/Users/shahzaibnoor/Documents/Projects/python-emporium/python-steps/exception_handling/exception_handling.ipynb#X36sZmlsZQ%3D%3D?line=1'>2</a>\u001b[0m l1[\u001b[39m200\u001b[39m]\n",
      "\u001b[0;31mIndexError\u001b[0m: list index out of range"
     ]
    }
   ],
   "source": [
    "l1 : list[int] = [1,2,3]\n",
    "l1[200]"
   ]
  },
  {
   "cell_type": "code",
   "execution_count": 34,
   "metadata": {},
   "outputs": [
    {
     "ename": "NameError",
     "evalue": "name 'xyz' is not defined",
     "output_type": "error",
     "traceback": [
      "\u001b[0;31m---------------------------------------------------------------------------\u001b[0m",
      "\u001b[0;31mNameError\u001b[0m                                 Traceback (most recent call last)",
      "\u001b[1;32m/Users/shahzaibnoor/Documents/Projects/python-emporium/python-steps/exception_handling/exception_handling.ipynb Cell 28\u001b[0m line \u001b[0;36m1\n\u001b[0;32m----> <a href='vscode-notebook-cell:/Users/shahzaibnoor/Documents/Projects/python-emporium/python-steps/exception_handling/exception_handling.ipynb#X40sZmlsZQ%3D%3D?line=0'>1</a>\u001b[0m \u001b[39mprint\u001b[39m(xyz)\n",
      "\u001b[0;31mNameError\u001b[0m: name 'xyz' is not defined"
     ]
    }
   ],
   "source": [
    "print(xyz)\n"
   ]
  },
  {
   "cell_type": "code",
   "execution_count": 35,
   "metadata": {},
   "outputs": [
    {
     "name": "stdout",
     "output_type": "stream",
     "text": [
      "logic1\n",
      "logic2\n",
      "Zerro Division Error!\n",
      "logic4\n",
      "logic5\n"
     ]
    }
   ],
   "source": [
    "print(\"logic1\")\n",
    "print(\"logic2\")\n",
    "\n",
    "l1 : list[int] = [1,2,3]\n",
    "\n",
    "try:\n",
    "    print(5/0)# Error\n",
    "    print(l1[0])\n",
    "    print(xyz)\n",
    "\n",
    "    \n",
    "except (ZeroDivisionError,IndexError):\n",
    "    print(\"Zerro Division Error!\")\n",
    "print(\"logic4\")\n",
    "print(\"logic5\")"
   ]
  },
  {
   "cell_type": "code",
   "execution_count": 37,
   "metadata": {},
   "outputs": [
    {
     "name": "stdout",
     "output_type": "stream",
     "text": [
      "logic1\n",
      "logic2\n",
      "Everything is fine.\n",
      "logic4\n",
      "logic5\n"
     ]
    }
   ],
   "source": [
    "print(\"logic1\")\n",
    "print(\"logic2\")\n",
    "\n",
    "l1 : list[int] = [1,2,3]\n",
    "\n",
    "try:\n",
    "    # print(5/0)# Error\n",
    "    # print(l1[0])\n",
    "    # print(xyz)\n",
    "    pass\n",
    "except (ZeroDivisionError,IndexError):\n",
    "    print(\"Zerro Division Error!\")\n",
    "else:\n",
    "    print(\"Everything is fine.\")\n",
    "print(\"logic4\")\n",
    "print(\"logic5\")"
   ]
  },
  {
   "cell_type": "code",
   "execution_count": 38,
   "metadata": {},
   "outputs": [
    {
     "name": "stdout",
     "output_type": "stream",
     "text": [
      "logic1\n",
      "logic2\n",
      "2.5\n",
      "1\n",
      "Zerro Division Error!\n",
      "logic4\n",
      "logic5\n"
     ]
    }
   ],
   "source": [
    "print(\"logic1\")\n",
    "print(\"logic2\")\n",
    "\n",
    "l1 : list[int] = [1,2,3]\n",
    "\n",
    "try:\n",
    "    print(5/2)\n",
    "    print(l1[0])\n",
    "    print(xyz) # error\n",
    "except (ZeroDivisionError,IndexError,NameError):\n",
    "    print(\"Zerro Division Error!\")\n",
    "print(\"logic4\")\n",
    "print(\"logic5\")"
   ]
  }
 ],
 "metadata": {
  "kernelspec": {
   "display_name": "base",
   "language": "python",
   "name": "python3"
  },
  "language_info": {
   "codemirror_mode": {
    "name": "ipython",
    "version": 3
   },
   "file_extension": ".py",
   "mimetype": "text/x-python",
   "name": "python",
   "nbconvert_exporter": "python",
   "pygments_lexer": "ipython3",
   "version": "3.11.5"
  }
 },
 "nbformat": 4,
 "nbformat_minor": 2
}
