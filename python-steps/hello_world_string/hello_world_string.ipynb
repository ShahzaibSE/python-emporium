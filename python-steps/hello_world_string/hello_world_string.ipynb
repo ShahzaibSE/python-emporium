{
 "cells": [
  {
   "cell_type": "code",
   "execution_count": 1,
   "metadata": {},
   "outputs": [
    {
     "name": "stdout",
     "output_type": "stream",
     "text": [
      "Pakistan\n",
      "Zindabad\n"
     ]
    }
   ],
   "source": [
    "print(\"Pakistan\")\n",
    "print(\"Zindabad\")"
   ]
  },
  {
   "cell_type": "code",
   "execution_count": 2,
   "metadata": {},
   "outputs": [
    {
     "name": "stdout",
     "output_type": "stream",
     "text": [
      "1: Pakistan Zindabad\n",
      "2: Pakistan Zindabad\n",
      "3: Pakistan Zindabad\n",
      "4: Pakistan Zindabad\n",
      "5: Pakistan Zindabad\n",
      "6: Pakistan Zindabad\n",
      "7: Pakistan Zindabad\n",
      "8: Pakistan Zindabad\n",
      "9: Pakistan Zindabad\n",
      "10: Pakistan Zindabad\n"
     ]
    }
   ],
   "source": [
    "for i in range(1,11):\n",
    "    print(f\"{i}: Pakistan Zindabad\")\n"
   ]
  },
  {
   "cell_type": "code",
   "execution_count": 4,
   "metadata": {},
   "outputs": [
    {
     "name": "stdout",
     "output_type": "stream",
     "text": [
      "S\n",
      "h\n",
      "a\n",
      "h\n",
      "z\n",
      "a\n",
      "i\n",
      "b\n",
      " \n",
      "N\n",
      "o\n",
      "o\n",
      "r\n"
     ]
    }
   ],
   "source": [
    "name = \"Shahzaib Noor\"\n",
    "\n",
    "for char in name:\n",
    "    print(char)"
   ]
  },
  {
   "cell_type": "code",
   "execution_count": 5,
   "metadata": {},
   "outputs": [
    {
     "name": "stdout",
     "output_type": "stream",
     "text": [
      "2000\n",
      "<class 'int'>\n",
      "4616614320\n",
      "['as_integer_ratio', 'bit_count', 'bit_length', 'conjugate', 'denominator', 'from_bytes', 'imag', 'numerator', 'real', 'to_bytes']\n"
     ]
    }
   ],
   "source": [
    "name : int = 2000\n",
    "print(name) # print\n",
    "print(type(name)) # type\n",
    "print(id(name)) # physcial address\n",
    "print([i for i in dir(name) if \"__\" not in i]) # methods and attributes"
   ]
  },
  {
   "cell_type": "markdown",
   "metadata": {},
   "source": [
    "### Wrong Variable Naming Convention.\n",
    "\n",
    "- 1_message\n",
    "- 1message\n",
    "- greeting message\n",
    "- Avoid using Python keywords and function names as variable names\n",
    "- Be careful when using the lowercase letter l and the uppercase letter O because they could be confused with the numbers 1 and 0."
   ]
  },
  {
   "cell_type": "code",
   "execution_count": 10,
   "metadata": {},
   "outputs": [
    {
     "name": "stdout",
     "output_type": "stream",
     "text": [
      "Hello there, how can I help you?\n"
     ]
    },
    {
     "data": {
      "text/plain": [
       "'James'"
      ]
     },
     "execution_count": 10,
     "metadata": {},
     "output_type": "execute_result"
    }
   ],
   "source": [
    "message = \"Hello there, how can I help you?\"\n",
    "# 1message = \"Wrong variable name\"\n",
    "recipent_name = \"James\"\n",
    "\n",
    "print(message)\n",
    "recipent_name"
   ]
  }
 ],
 "metadata": {
  "kernelspec": {
   "display_name": "shahzaibse-langchain-v1",
   "language": "python",
   "name": "python3"
  },
  "language_info": {
   "codemirror_mode": {
    "name": "ipython",
    "version": 3
   },
   "file_extension": ".py",
   "mimetype": "text/x-python",
   "name": "python",
   "nbconvert_exporter": "python",
   "pygments_lexer": "ipython3",
   "version": "3.11.5"
  }
 },
 "nbformat": 4,
 "nbformat_minor": 2
}
