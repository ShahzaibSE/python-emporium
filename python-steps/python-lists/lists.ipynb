{
 "cells": [
  {
   "cell_type": "code",
   "execution_count": 1,
   "metadata": {},
   "outputs": [
    {
     "name": "stdout",
     "output_type": "stream",
     "text": [
      "Qasim\n",
      "Sir Zia\n",
      "Sir Inam\n"
     ]
    }
   ],
   "source": [
    "name1 : str = \"Qasim\"\n",
    "name2 : str = \"Sir Zia\"\n",
    "name3 : str = \"Sir Inam\"\n",
    "\n",
    "print(name1)\n",
    "print(name2)\n",
    "print(name3)"
   ]
  },
  {
   "cell_type": "markdown",
   "metadata": {},
   "source": [
    "# List\n",
    "\n",
    "- dynamic length\n",
    "- hetrogenous data\n",
    "- index\n",
    "  - 0 to n - 1\n",
    "  - negative - 1 to length\n",
    "- slicing\n",
    "  - variable names[start:end:step]\n",
    "  - start: int include\n",
    "  - end: int n - 1 excluded\n",
    "  - step: int sequence"
   ]
  },
  {
   "cell_type": "code",
   "execution_count": 2,
   "metadata": {},
   "outputs": [
    {
     "name": "stdout",
     "output_type": "stream",
     "text": [
      "Qasim\n",
      "Qasim\n",
      "Sir Zia\n"
     ]
    }
   ],
   "source": [
    "# old way\n",
    "# ->        0          1       2\n",
    "names = [\"Qasim\",\"Sir Zia\",\"Sir Inam\"] # length-1 \n",
    "# <-        -3       -2        -1\n",
    "\n",
    "print(names[0]) # Qasim\n",
    "print(names[-3]) # Qasim\n",
    "\n",
    "print(names[-2]) # Sir Zia"
   ]
  },
  {
   "cell_type": "code",
   "execution_count": 4,
   "metadata": {},
   "outputs": [
    {
     "name": "stdout",
     "output_type": "stream",
     "text": [
      "Names: ['Qasim', 'Sir Zia', 'Sir Inam', 'shahzaib noor']\n",
      "Qasim\n",
      "Sir Zia\n",
      "Sir Inam\n"
     ]
    }
   ],
   "source": [
    "# old way\n",
    "# ->        0          1       2\n",
    "firstname = input(\"Enter first name:\")\n",
    "lastname = input(\"Enter last name\")\n",
    "names = [\"Qasim\",\"Sir Zia\",\"Sir Inam\", firstname + \" \" + lastname] # length-1 \n",
    "# <-        -3       -2        -1\n",
    "\n",
    "print(f\"Names: {names}\")\n",
    "\n",
    "print(names[0]) # Qasim\n",
    "print(names[-3]) # Qasim\n",
    "\n",
    "print(names[-2]) # Sir Zia"
   ]
  },
  {
   "cell_type": "code",
   "execution_count": 5,
   "metadata": {},
   "outputs": [
    {
     "name": "stdout",
     "output_type": "stream",
     "text": [
      "20\n"
     ]
    }
   ],
   "source": [
    "from typing import Any\n",
    "# Hetrogenous data.\n",
    "mix_list: [Any] = [\"Qasim\",\"Sir Zia\", \"Sir Inam\", 20, True]\n",
    "print(mix_list[-2])"
   ]
  },
  {
   "cell_type": "code",
   "execution_count": 6,
   "metadata": {},
   "outputs": [
    {
     "name": "stdout",
     "output_type": "stream",
     "text": [
      "<class 'list'>\n",
      "<class 'str'>\n",
      "Founder of PIAIC SIR ZIA\n"
     ]
    }
   ],
   "source": [
    "# ->                    0        1         2\n",
    "names : list[Any] = [\"Qasim\",\"Sir Zia\", \"Sir Inam\"]\n",
    "# <-                    -3     -2          -1\n",
    "\n",
    "print(type(names))\n",
    "print(type(names[-2]))\n",
    "\n",
    "print(f'Founder of PIAIC {names[-2].upper()}')"
   ]
  },
  {
   "cell_type": "code",
   "execution_count": 7,
   "metadata": {},
   "outputs": [
    {
     "data": {
      "text/plain": [
       "list"
      ]
     },
     "execution_count": 7,
     "metadata": {},
     "output_type": "execute_result"
    }
   ],
   "source": [
    "type(names)"
   ]
  },
  {
   "cell_type": "code",
   "execution_count": 8,
   "metadata": {},
   "outputs": [
    {
     "name": "stdout",
     "output_type": "stream",
     "text": [
      "20\n"
     ]
    }
   ],
   "source": [
    "# ->                    0        1         2\n",
    "names : list[str] = [\"Qasim\",\"Sir Zia\", \"Sir Inam\", 20, True]\n",
    "# <-                    -3     -2          -1\n",
    "\n",
    "print(names[-2])"
   ]
  },
  {
   "cell_type": "code",
   "execution_count": 10,
   "metadata": {},
   "outputs": [
    {
     "name": "stdout",
     "output_type": "stream",
     "text": [
      "shahzaib\n"
     ]
    }
   ],
   "source": [
    "myname = \"shahzaib\"\n",
    "print(myname)"
   ]
  },
  {
   "cell_type": "code",
   "execution_count": 11,
   "metadata": {},
   "outputs": [
    {
     "data": {
      "text/plain": [
       "['s', 'h', 'a', 'h', 'z', 'a', 'i', 'b']"
      ]
     },
     "execution_count": 11,
     "metadata": {},
     "output_type": "execute_result"
    }
   ],
   "source": [
    "list(myname)"
   ]
  },
  {
   "cell_type": "code",
   "execution_count": 12,
   "metadata": {},
   "outputs": [
    {
     "name": "stdout",
     "output_type": "stream",
     "text": [
      "['A', 'B', 'C', 'D', 'E', 'F', 'G', 'H', 'I', 'J', 'K', 'L', 'M', 'N', 'O', 'P', 'Q', 'R', 'S', 'T', 'U', 'V', 'W', 'X', 'Y', 'X']\n"
     ]
    }
   ],
   "source": [
    "characters : list[str] = list(\"ABCDEFGHIJKLMNOPQRSTUVWXYX\")\n",
    "print(characters)\n"
   ]
  },
  {
   "cell_type": "code",
   "execution_count": 14,
   "metadata": {},
   "outputs": [
    {
     "name": "stdout",
     "output_type": "stream",
     "text": [
      "26\n",
      "['C', 'E', 'G', 'I', 'K', 'M', 'O', 'Q', 'S']\n"
     ]
    }
   ],
   "source": [
    "print(len(characters))\n",
    "print(characters[2: 20: 2])\n"
   ]
  },
  {
   "cell_type": "code",
   "execution_count": 16,
   "metadata": {},
   "outputs": [
    {
     "name": "stdout",
     "output_type": "stream",
     "text": [
      "['A', 'B']\n",
      "['A', 'B']\n",
      "['A', 'B']\n",
      "['A', 'B']\n",
      "['A', 'B']\n"
     ]
    }
   ],
   "source": [
    "#                          0    1    2                                                                                                                 25\n",
    "characters : list[str] = ['A', 'B', 'C', 'D', 'E', 'F', 'G', 'H', \n",
    "                          'I', 'J', 'K', 'L', 'M', 'N', 'O', 'P',\n",
    "                          'Q', 'R', 'S', 'T', 'U', 'V', 'W', 'X', 'Y', 'X']\n",
    "#                         -26   -25  -24                                                                                                                         -1\n",
    "\n",
    "# defualt slicing go from left to right\n",
    "print(characters[0:2]) # 0= include : index 2-1 = 1\n",
    "print(characters[:2]) # not pass any number = all\n",
    "print(characters[-26:-24])# 0= include : index -24-1 = -25\n",
    "print(characters[0:2:1]) # 0= include : index 2-1 = 1\n",
    "print(characters[0:2:]) # 0= include : index 2-1 = 1"
   ]
  },
  {
   "cell_type": "code",
   "execution_count": 2,
   "metadata": {},
   "outputs": [
    {
     "name": "stdout",
     "output_type": "stream",
     "text": [
      "Qasim\n",
      "Qasim\n",
      "Sir Zia\n"
     ]
    }
   ],
   "source": [
    "# old way\n",
    "# ->        0          1       2\n",
    "teachers = [\"Qasim\",\"Sir Zia\",\"Sir Inam\"] # length-1 \n",
    "# <-        -3       -2        -1\n",
    "\n",
    "print(teachers[0]) # Qasim\n",
    "print(teachers[-3]) # Qasim\n",
    "\n",
    "print(teachers[-2]) # Sir Zia"
   ]
  },
  {
   "cell_type": "markdown",
   "metadata": {},
   "source": [
    "# List methods"
   ]
  },
  {
   "cell_type": "code",
   "execution_count": 5,
   "metadata": {},
   "outputs": [
    {
     "data": {
      "text/plain": [
       "['append',\n",
       " 'clear',\n",
       " 'copy',\n",
       " 'count',\n",
       " 'extend',\n",
       " 'index',\n",
       " 'insert',\n",
       " 'pop',\n",
       " 'remove',\n",
       " 'reverse',\n",
       " 'sort']"
      ]
     },
     "execution_count": 5,
     "metadata": {},
     "output_type": "execute_result"
    }
   ],
   "source": [
    "[i for i in dir(list) if \"__\" not in i]"
   ]
  },
  {
   "cell_type": "code",
   "execution_count": 10,
   "metadata": {},
   "outputs": [
    {
     "ename": "TypeError",
     "evalue": "'type' object is not iterable",
     "output_type": "error",
     "traceback": [
      "\u001b[0;31m---------------------------------------------------------------------------\u001b[0m",
      "\u001b[0;31mTypeError\u001b[0m                                 Traceback (most recent call last)",
      "\u001b[1;32m/Users/shahzaibnoor/Documents/Projects/python-emporium/python-steps/python-lists/lists.ipynb Cell 17\u001b[0m line \u001b[0;36m1\n\u001b[0;32m----> <a href='vscode-notebook-cell:/Users/shahzaibnoor/Documents/Projects/python-emporium/python-steps/python-lists/lists.ipynb#X22sZmlsZQ%3D%3D?line=0'>1</a>\u001b[0m students: \u001b[39mlist\u001b[39m(\u001b[39mstr\u001b[39m) \u001b[39m=\u001b[39m [\u001b[39m\"\u001b[39m\u001b[39mshahzaib\u001b[39m\u001b[39m\"\u001b[39m, \u001b[39m\"\u001b[39m\u001b[39mbruce\u001b[39m\u001b[39m\"\u001b[39m, \u001b[39m\"\u001b[39m\u001b[39mclark\u001b[39m\u001b[39m\"\u001b[39m]\n\u001b[1;32m      <a href='vscode-notebook-cell:/Users/shahzaibnoor/Documents/Projects/python-emporium/python-steps/python-lists/lists.ipynb#X22sZmlsZQ%3D%3D?line=2'>3</a>\u001b[0m \u001b[39mprint\u001b[39m(students)\n",
      "\u001b[0;31mTypeError\u001b[0m: 'type' object is not iterable"
     ]
    }
   ],
   "source": [
    "students: list(str) = [\"shahzaib\", \"bruce\", \"clark\"]\n",
    "\n",
    "print(students)"
   ]
  },
  {
   "cell_type": "code",
   "execution_count": 11,
   "metadata": {},
   "outputs": [
    {
     "name": "stdout",
     "output_type": "stream",
     "text": [
      "['shahzaib', 'bruce', 'clark']\n"
     ]
    }
   ],
   "source": [
    "students: [str] = [\"shahzaib\", \"bruce\", \"clark\"]\n",
    "\n",
    "print(students)"
   ]
  },
  {
   "cell_type": "markdown",
   "metadata": {},
   "source": [
    "## Appending an item to the student list."
   ]
  },
  {
   "cell_type": "code",
   "execution_count": 13,
   "metadata": {},
   "outputs": [
    {
     "name": "stdout",
     "output_type": "stream",
     "text": [
      "After appending an item to the list\n",
      "['shahzaib', 'bruce', 'clark', 'hal', 'hal']\n"
     ]
    }
   ],
   "source": [
    "students.append(\"hal\")\n",
    "\n",
    "print(\"After appending an item to the list\")\n",
    "print(students)"
   ]
  },
  {
   "cell_type": "code",
   "execution_count": 14,
   "metadata": {},
   "outputs": [
    {
     "name": "stdout",
     "output_type": "stream",
     "text": [
      "After appending an item to the list\n",
      "['shahzaib', 'bruce', 'clark', 'hal', 'hal', {'name': 'john'}]\n"
     ]
    }
   ],
   "source": [
    "students.append({\"name\": \"john\"})\n",
    "\n",
    "print(\"After appending an item to the list\")\n",
    "print(students)"
   ]
  },
  {
   "cell_type": "code",
   "execution_count": 15,
   "metadata": {},
   "outputs": [
    {
     "ename": "TypeError",
     "evalue": "can only concatenate str (not \"int\") to str",
     "output_type": "error",
     "traceback": [
      "\u001b[0;31m---------------------------------------------------------------------------\u001b[0m",
      "\u001b[0;31mTypeError\u001b[0m                                 Traceback (most recent call last)",
      "\u001b[1;32m/Users/shahzaibnoor/Documents/Projects/python-emporium/python-steps/python-lists/lists.ipynb Cell 22\u001b[0m line \u001b[0;36m1\n\u001b[0;32m----> <a href='vscode-notebook-cell:/Users/shahzaibnoor/Documents/Projects/python-emporium/python-steps/python-lists/lists.ipynb#X30sZmlsZQ%3D%3D?line=0'>1</a>\u001b[0m \u001b[39mstr\u001b[39m(\u001b[39m4\u001b[39m) \u001b[39m+\u001b[39m \u001b[39m3\u001b[39m\n",
      "\u001b[0;31mTypeError\u001b[0m: can only concatenate str (not \"int\") to str"
     ]
    }
   ],
   "source": [
    "str(4) + 3"
   ]
  },
  {
   "cell_type": "code",
   "execution_count": 16,
   "metadata": {},
   "outputs": [
    {
     "name": "stdout",
     "output_type": "stream",
     "text": [
      "[1, 2, 3]\n"
     ]
    }
   ],
   "source": [
    "a: list[str] = [1,2,3]\n",
    "print(a)"
   ]
  },
  {
   "cell_type": "code",
   "execution_count": 17,
   "metadata": {},
   "outputs": [
    {
     "ename": "NameError",
     "evalue": "name 'a' is not defined",
     "output_type": "error",
     "traceback": [
      "\u001b[0;31m---------------------------------------------------------------------------\u001b[0m",
      "\u001b[0;31mNameError\u001b[0m                                 Traceback (most recent call last)",
      "\u001b[1;32m/Users/shahzaibnoor/Documents/Projects/python-emporium/python-steps/python-lists/lists.ipynb Cell 24\u001b[0m line \u001b[0;36m3\n\u001b[1;32m      <a href='vscode-notebook-cell:/Users/shahzaibnoor/Documents/Projects/python-emporium/python-steps/python-lists/lists.ipynb#X32sZmlsZQ%3D%3D?line=0'>1</a>\u001b[0m a: \u001b[39mlist\u001b[39m[\u001b[39mstr\u001b[39m] \u001b[39m=\u001b[39m [\u001b[39m1\u001b[39m,\u001b[39m2\u001b[39m,\u001b[39m3\u001b[39m]\n\u001b[1;32m      <a href='vscode-notebook-cell:/Users/shahzaibnoor/Documents/Projects/python-emporium/python-steps/python-lists/lists.ipynb#X32sZmlsZQ%3D%3D?line=1'>2</a>\u001b[0m \u001b[39mdel\u001b[39;00m a \u001b[39m# Delete object 'a' from memory. \u001b[39;00m\n\u001b[0;32m----> <a href='vscode-notebook-cell:/Users/shahzaibnoor/Documents/Projects/python-emporium/python-steps/python-lists/lists.ipynb#X32sZmlsZQ%3D%3D?line=2'>3</a>\u001b[0m \u001b[39mprint\u001b[39m(a)\n",
      "\u001b[0;31mNameError\u001b[0m: name 'a' is not defined"
     ]
    }
   ],
   "source": [
    "a: list[str] = [1,2,3]\n",
    "del a # Delete object 'a' from memory. \n",
    "print(a)"
   ]
  },
  {
   "cell_type": "code",
   "execution_count": 19,
   "metadata": {},
   "outputs": [
    {
     "name": "stdout",
     "output_type": "stream",
     "text": [
      "[]\n"
     ]
    }
   ],
   "source": [
    "a: list[str] = [1,2,3]\n",
    "a.clear()# remove all element but object is ramin\n",
    "print(a)"
   ]
  },
  {
   "cell_type": "code",
   "execution_count": 21,
   "metadata": {},
   "outputs": [
    {
     "name": "stdout",
     "output_type": "stream",
     "text": [
      "OG list: [1, 2, 3] | copy_of_og_list: [1, 2, 3]\n",
      "Both are same list\n"
     ]
    }
   ],
   "source": [
    "og_list: [int] = [1,2,3]\n",
    "copy_of_og_list = og_list.copy()\n",
    "\n",
    "print(f\"OG list: {og_list} | copy_of_og_list: {copy_of_og_list}\")\n",
    "\n",
    "if(og_list == copy_of_og_list):\n",
    "    print(\"Both are same list\")\n",
    "\n",
    "# Copy function returns a shallow copy of the list."
   ]
  },
  {
   "cell_type": "code",
   "execution_count": 22,
   "metadata": {},
   "outputs": [
    {
     "data": {
      "text/plain": [
       "'Clark'"
      ]
     },
     "execution_count": 22,
     "metadata": {},
     "output_type": "execute_result"
    }
   ],
   "source": [
    "students[2].title()"
   ]
  },
  {
   "cell_type": "code",
   "execution_count": 23,
   "metadata": {},
   "outputs": [
    {
     "data": {
      "text/plain": [
       "'BRUCE'"
      ]
     },
     "execution_count": 23,
     "metadata": {},
     "output_type": "execute_result"
    }
   ],
   "source": [
    "students[1].upper()"
   ]
  },
  {
   "cell_type": "markdown",
   "metadata": {},
   "source": [
    "# Help\n",
    "\n",
    "- help(print)\n",
    "- object?\n",
    "- object??\n",
    "- ?object\n",
    "- ??object"
   ]
  },
  {
   "cell_type": "code",
   "execution_count": 24,
   "metadata": {},
   "outputs": [
    {
     "name": "stdout",
     "output_type": "stream",
     "text": [
      "Help on method_descriptor:\n",
      "\n",
      "copy(self, /)\n",
      "    Return a shallow copy of the list.\n",
      "\n"
     ]
    }
   ],
   "source": [
    "help(list.copy)"
   ]
  },
  {
   "cell_type": "code",
   "execution_count": 25,
   "metadata": {},
   "outputs": [
    {
     "name": "stdout",
     "output_type": "stream",
     "text": [
      "Help on built-in function print in module builtins:\n",
      "\n",
      "print(*args, sep=' ', end='\\n', file=None, flush=False)\n",
      "    Prints the values to a stream, or to sys.stdout by default.\n",
      "    \n",
      "    sep\n",
      "      string inserted between values, default a space.\n",
      "    end\n",
      "      string appended after the last value, default a newline.\n",
      "    file\n",
      "      a file-like object (stream); defaults to the current sys.stdout.\n",
      "    flush\n",
      "      whether to forcibly flush the stream.\n",
      "\n"
     ]
    }
   ],
   "source": [
    "help(print)"
   ]
  }
 ],
 "metadata": {
  "kernelspec": {
   "display_name": "base",
   "language": "python",
   "name": "python3"
  },
  "language_info": {
   "codemirror_mode": {
    "name": "ipython",
    "version": 3
   },
   "file_extension": ".py",
   "mimetype": "text/x-python",
   "name": "python",
   "nbconvert_exporter": "python",
   "pygments_lexer": "ipython3",
   "version": "3.11.5"
  }
 },
 "nbformat": 4,
 "nbformat_minor": 2
}
